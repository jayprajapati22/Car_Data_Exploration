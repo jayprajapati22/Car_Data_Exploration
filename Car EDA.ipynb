{
 "cells": [
  {
   "cell_type": "code",
   "execution_count": 3,
   "id": "9934e7a8",
   "metadata": {},
   "outputs": [],
   "source": [
    "import pandas as pd\n"
   ]
  },
  {
   "cell_type": "code",
   "execution_count": 4,
   "id": "2a165d76",
   "metadata": {},
   "outputs": [
    {
     "data": {
      "text/html": [
       "<div>\n",
       "<style scoped>\n",
       "    .dataframe tbody tr th:only-of-type {\n",
       "        vertical-align: middle;\n",
       "    }\n",
       "\n",
       "    .dataframe tbody tr th {\n",
       "        vertical-align: top;\n",
       "    }\n",
       "\n",
       "    .dataframe thead th {\n",
       "        text-align: right;\n",
       "    }\n",
       "</style>\n",
       "<table border=\"1\" class=\"dataframe\">\n",
       "  <thead>\n",
       "    <tr style=\"text-align: right;\">\n",
       "      <th></th>\n",
       "      <th>Brand</th>\n",
       "      <th>Model</th>\n",
       "      <th>Year</th>\n",
       "      <th>Engine_Size</th>\n",
       "      <th>Fuel_Type</th>\n",
       "      <th>Transmission</th>\n",
       "      <th>Mileage</th>\n",
       "      <th>Doors</th>\n",
       "      <th>Owner_Count</th>\n",
       "      <th>Price</th>\n",
       "    </tr>\n",
       "  </thead>\n",
       "  <tbody>\n",
       "    <tr>\n",
       "      <th>0</th>\n",
       "      <td>Kia</td>\n",
       "      <td>Rio</td>\n",
       "      <td>2020</td>\n",
       "      <td>4.2</td>\n",
       "      <td>Diesel</td>\n",
       "      <td>Manual</td>\n",
       "      <td>289944</td>\n",
       "      <td>3</td>\n",
       "      <td>5</td>\n",
       "      <td>8501</td>\n",
       "    </tr>\n",
       "    <tr>\n",
       "      <th>1</th>\n",
       "      <td>Chevrolet</td>\n",
       "      <td>Malibu</td>\n",
       "      <td>2012</td>\n",
       "      <td>2.0</td>\n",
       "      <td>Hybrid</td>\n",
       "      <td>Automatic</td>\n",
       "      <td>5356</td>\n",
       "      <td>2</td>\n",
       "      <td>3</td>\n",
       "      <td>12092</td>\n",
       "    </tr>\n",
       "    <tr>\n",
       "      <th>2</th>\n",
       "      <td>Mercedes</td>\n",
       "      <td>GLA</td>\n",
       "      <td>2020</td>\n",
       "      <td>4.2</td>\n",
       "      <td>Diesel</td>\n",
       "      <td>Automatic</td>\n",
       "      <td>231440</td>\n",
       "      <td>4</td>\n",
       "      <td>2</td>\n",
       "      <td>11171</td>\n",
       "    </tr>\n",
       "    <tr>\n",
       "      <th>3</th>\n",
       "      <td>Audi</td>\n",
       "      <td>Q5</td>\n",
       "      <td>2023</td>\n",
       "      <td>2.0</td>\n",
       "      <td>Electric</td>\n",
       "      <td>Manual</td>\n",
       "      <td>160971</td>\n",
       "      <td>2</td>\n",
       "      <td>1</td>\n",
       "      <td>11780</td>\n",
       "    </tr>\n",
       "    <tr>\n",
       "      <th>4</th>\n",
       "      <td>Volkswagen</td>\n",
       "      <td>Golf</td>\n",
       "      <td>2003</td>\n",
       "      <td>2.6</td>\n",
       "      <td>Hybrid</td>\n",
       "      <td>Semi-Automatic</td>\n",
       "      <td>286618</td>\n",
       "      <td>3</td>\n",
       "      <td>3</td>\n",
       "      <td>2867</td>\n",
       "    </tr>\n",
       "  </tbody>\n",
       "</table>\n",
       "</div>"
      ],
      "text/plain": [
       "        Brand   Model  Year  Engine_Size Fuel_Type    Transmission  Mileage  \\\n",
       "0         Kia     Rio  2020          4.2    Diesel          Manual   289944   \n",
       "1   Chevrolet  Malibu  2012          2.0    Hybrid       Automatic     5356   \n",
       "2    Mercedes     GLA  2020          4.2    Diesel       Automatic   231440   \n",
       "3        Audi      Q5  2023          2.0  Electric          Manual   160971   \n",
       "4  Volkswagen    Golf  2003          2.6    Hybrid  Semi-Automatic   286618   \n",
       "\n",
       "   Doors  Owner_Count  Price  \n",
       "0      3            5   8501  \n",
       "1      2            3  12092  \n",
       "2      4            2  11171  \n",
       "3      2            1  11780  \n",
       "4      3            3   2867  "
      ]
     },
     "execution_count": 4,
     "metadata": {},
     "output_type": "execute_result"
    }
   ],
   "source": [
    "# Reading the CSV file into a DataFrame\n",
    "car = pd.read_csv('car_price_dataset.csv')\n",
    "\n",
    "# Displaying the first 5 rows of the dataset\n",
    "car.head()"
   ]
  },
  {
   "cell_type": "code",
   "execution_count": 25,
   "id": "9834d743",
   "metadata": {},
   "outputs": [
    {
     "data": {
      "text/plain": [
       "10"
      ]
     },
     "execution_count": 25,
     "metadata": {},
     "output_type": "execute_result"
    }
   ],
   "source": [
    "# Creating a DataFrame named 'unique' with a single column \"Brand\"\n",
    "unique = pd.DataFrame(unique, columns=[\"Brand\"])\n",
    "\n",
    "# Getting the number of unique rows in the 'unique' DataFrame\n",
    "unique.shape[0]"
   ]
  },
  {
   "cell_type": "code",
   "execution_count": 29,
   "id": "40e761e3",
   "metadata": {},
   "outputs": [
    {
     "data": {
      "text/html": [
       "<div>\n",
       "<style scoped>\n",
       "    .dataframe tbody tr th:only-of-type {\n",
       "        vertical-align: middle;\n",
       "    }\n",
       "\n",
       "    .dataframe tbody tr th {\n",
       "        vertical-align: top;\n",
       "    }\n",
       "\n",
       "    .dataframe thead th {\n",
       "        text-align: right;\n",
       "    }\n",
       "</style>\n",
       "<table border=\"1\" class=\"dataframe\">\n",
       "  <thead>\n",
       "    <tr style=\"text-align: right;\">\n",
       "      <th></th>\n",
       "      <th>0</th>\n",
       "    </tr>\n",
       "  </thead>\n",
       "  <tbody>\n",
       "    <tr>\n",
       "      <th>Brand</th>\n",
       "      <td>0</td>\n",
       "    </tr>\n",
       "    <tr>\n",
       "      <th>Model</th>\n",
       "      <td>0</td>\n",
       "    </tr>\n",
       "    <tr>\n",
       "      <th>Year</th>\n",
       "      <td>0</td>\n",
       "    </tr>\n",
       "    <tr>\n",
       "      <th>Engine_Size</th>\n",
       "      <td>0</td>\n",
       "    </tr>\n",
       "    <tr>\n",
       "      <th>Fuel_Type</th>\n",
       "      <td>0</td>\n",
       "    </tr>\n",
       "    <tr>\n",
       "      <th>Transmission</th>\n",
       "      <td>0</td>\n",
       "    </tr>\n",
       "    <tr>\n",
       "      <th>Mileage</th>\n",
       "      <td>0</td>\n",
       "    </tr>\n",
       "    <tr>\n",
       "      <th>Doors</th>\n",
       "      <td>0</td>\n",
       "    </tr>\n",
       "    <tr>\n",
       "      <th>Owner_Count</th>\n",
       "      <td>0</td>\n",
       "    </tr>\n",
       "    <tr>\n",
       "      <th>Price</th>\n",
       "      <td>0</td>\n",
       "    </tr>\n",
       "  </tbody>\n",
       "</table>\n",
       "</div>"
      ],
      "text/plain": [
       "              0\n",
       "Brand         0\n",
       "Model         0\n",
       "Year          0\n",
       "Engine_Size   0\n",
       "Fuel_Type     0\n",
       "Transmission  0\n",
       "Mileage       0\n",
       "Doors         0\n",
       "Owner_Count   0\n",
       "Price         0"
      ]
     },
     "execution_count": 29,
     "metadata": {},
     "output_type": "execute_result"
    }
   ],
   "source": [
    "# Creating a DataFrame showing the count of missing values in each column\n",
    "Check = pd.DataFrame(car.isna().sum())\n",
    "Check"
   ]
  },
  {
   "cell_type": "code",
   "execution_count": 37,
   "id": "2a89f69b",
   "metadata": {},
   "outputs": [
    {
     "name": "stdout",
     "output_type": "stream",
     "text": [
      "Brand\n",
      "Ford          1048\n",
      "Audi          1038\n",
      "Volkswagen    1020\n",
      "Honda         1009\n",
      "Chevrolet     1003\n",
      "Name: count, dtype: int64\n"
     ]
    }
   ],
   "source": [
    "# Counting occurrences of each unique value in the 'Brand' column\n",
    "Value_Counts = car['Brand'].value_counts()\n",
    "print(Value_Counts.head())"
   ]
  },
  {
   "cell_type": "code",
   "execution_count": 38,
   "id": "7f4a0b80",
   "metadata": {},
   "outputs": [],
   "source": [
    "# Replacing 'Ford' with 'Ford Motors' in the 'Brand' column\n",
    "car['Brand'] = car['Brand'].replace('Ford', 'Ford Motors')"
   ]
  },
  {
   "cell_type": "code",
   "execution_count": 48,
   "id": "ff63659d",
   "metadata": {},
   "outputs": [
    {
     "data": {
      "text/plain": [
       "Brand\n",
       "Audi           8929.373796\n",
       "BMW            8704.068068\n",
       "Chevrolet      9015.683948\n",
       "Ford Motors    8852.570611\n",
       "Honda          8665.596630\n",
       "Hyundai        8778.279397\n",
       "Kia            8880.086066\n",
       "Mercedes       8980.087049\n",
       "Toyota         8798.184536\n",
       "Volkswagen     8928.377451\n",
       "Name: Price, dtype: float64"
      ]
     },
     "execution_count": 48,
     "metadata": {},
     "output_type": "execute_result"
    }
   ],
   "source": [
    "# Grouping by 'Brand' and calculating the average 'Price' for each brand\n",
    "fuel_type = car.groupby('Brand')['Price'].mean()\n",
    "fuel_type"
   ]
  },
  {
   "cell_type": "code",
   "execution_count": 65,
   "id": "6652542c",
   "metadata": {},
   "outputs": [
    {
     "data": {
      "text/plain": [
       "0    Cheap\n",
       "1    Cheap\n",
       "2    Cheap\n",
       "3    Cheap\n",
       "4    Cheap\n",
       "Name: Price_Category, dtype: object"
      ]
     },
     "execution_count": 65,
     "metadata": {},
     "output_type": "execute_result"
    }
   ],
   "source": [
    "# Creating a new column 'Price_Category' based on the 'Price' value\n",
    "car['Price_Category'] = car['Price'].apply(lambda x: 'Expensive' if x > 30000 else 'Cheap')\n",
    "\n",
    "# Displaying the first 5 values of the 'Price_Category' column\n",
    "car['Price_Category'].head()"
   ]
  },
  {
   "cell_type": "code",
   "execution_count": 68,
   "id": "f6d633b8",
   "metadata": {
    "scrolled": true
   },
   "outputs": [
    {
     "data": {
      "text/plain": [
       "array(['Rio', 'Malibu', 'GLA', 'Q5', 'Golf', 'Camry', 'Civic', 'Sportage',\n",
       "       'RAV4', '5 Series', 'CR-V', 'Elantra', 'Tiguan', 'Equinox',\n",
       "       'Explorer', 'A3', '3 Series', 'Tucson', 'Passat', 'Impala',\n",
       "       'Corolla', 'Optima', 'Fiesta', 'A4', 'Focus', 'E-Class', 'Sonata',\n",
       "       'C-Class', 'X5', 'Accord'], dtype=object)"
      ]
     },
     "execution_count": 68,
     "metadata": {},
     "output_type": "execute_result"
    }
   ],
   "source": [
    "# Displaying unique values in the 'Model' column\n",
    "car['Model'].unique()"
   ]
  },
  {
   "cell_type": "code",
   "execution_count": 73,
   "id": "53cebf44",
   "metadata": {},
   "outputs": [
    {
     "data": {
      "text/html": [
       "<div>\n",
       "<style scoped>\n",
       "    .dataframe tbody tr th:only-of-type {\n",
       "        vertical-align: middle;\n",
       "    }\n",
       "\n",
       "    .dataframe tbody tr th {\n",
       "        vertical-align: top;\n",
       "    }\n",
       "\n",
       "    .dataframe thead th {\n",
       "        text-align: right;\n",
       "    }\n",
       "</style>\n",
       "<table border=\"1\" class=\"dataframe\">\n",
       "  <thead>\n",
       "    <tr style=\"text-align: right;\">\n",
       "      <th></th>\n",
       "      <th>Brand</th>\n",
       "      <th>Model</th>\n",
       "      <th>Year</th>\n",
       "      <th>Engine_Size</th>\n",
       "      <th>Fuel_Type</th>\n",
       "      <th>Transmission</th>\n",
       "      <th>Mileage</th>\n",
       "      <th>Doors</th>\n",
       "      <th>Owner_Count</th>\n",
       "      <th>Price</th>\n",
       "      <th>Price_Category</th>\n",
       "      <th>Category</th>\n",
       "    </tr>\n",
       "  </thead>\n",
       "  <tbody>\n",
       "    <tr>\n",
       "      <th>0</th>\n",
       "      <td>Kia</td>\n",
       "      <td>Rio</td>\n",
       "      <td>2020</td>\n",
       "      <td>4.2</td>\n",
       "      <td>Diesel</td>\n",
       "      <td>Manual</td>\n",
       "      <td>289944</td>\n",
       "      <td>3</td>\n",
       "      <td>5</td>\n",
       "      <td>8501</td>\n",
       "      <td>Cheap</td>\n",
       "      <td>Others</td>\n",
       "    </tr>\n",
       "    <tr>\n",
       "      <th>1</th>\n",
       "      <td>Chevrolet</td>\n",
       "      <td>Malibu</td>\n",
       "      <td>2012</td>\n",
       "      <td>2.0</td>\n",
       "      <td>Hybrid</td>\n",
       "      <td>Automatic</td>\n",
       "      <td>5356</td>\n",
       "      <td>2</td>\n",
       "      <td>3</td>\n",
       "      <td>12092</td>\n",
       "      <td>Cheap</td>\n",
       "      <td>Sedan</td>\n",
       "    </tr>\n",
       "    <tr>\n",
       "      <th>2</th>\n",
       "      <td>Mercedes</td>\n",
       "      <td>GLA</td>\n",
       "      <td>2020</td>\n",
       "      <td>4.2</td>\n",
       "      <td>Diesel</td>\n",
       "      <td>Automatic</td>\n",
       "      <td>231440</td>\n",
       "      <td>4</td>\n",
       "      <td>2</td>\n",
       "      <td>11171</td>\n",
       "      <td>Cheap</td>\n",
       "      <td>Luxury</td>\n",
       "    </tr>\n",
       "    <tr>\n",
       "      <th>3</th>\n",
       "      <td>Audi</td>\n",
       "      <td>Q5</td>\n",
       "      <td>2023</td>\n",
       "      <td>2.0</td>\n",
       "      <td>Electric</td>\n",
       "      <td>Manual</td>\n",
       "      <td>160971</td>\n",
       "      <td>2</td>\n",
       "      <td>1</td>\n",
       "      <td>11780</td>\n",
       "      <td>Cheap</td>\n",
       "      <td>Luxury</td>\n",
       "    </tr>\n",
       "    <tr>\n",
       "      <th>4</th>\n",
       "      <td>Volkswagen</td>\n",
       "      <td>Golf</td>\n",
       "      <td>2003</td>\n",
       "      <td>2.6</td>\n",
       "      <td>Hybrid</td>\n",
       "      <td>Semi-Automatic</td>\n",
       "      <td>286618</td>\n",
       "      <td>3</td>\n",
       "      <td>3</td>\n",
       "      <td>2867</td>\n",
       "      <td>Cheap</td>\n",
       "      <td>Others</td>\n",
       "    </tr>\n",
       "  </tbody>\n",
       "</table>\n",
       "</div>"
      ],
      "text/plain": [
       "        Brand   Model  Year  Engine_Size Fuel_Type    Transmission  Mileage  \\\n",
       "0         Kia     Rio  2020          4.2    Diesel          Manual   289944   \n",
       "1   Chevrolet  Malibu  2012          2.0    Hybrid       Automatic     5356   \n",
       "2    Mercedes     GLA  2020          4.2    Diesel       Automatic   231440   \n",
       "3        Audi      Q5  2023          2.0  Electric          Manual   160971   \n",
       "4  Volkswagen    Golf  2003          2.6    Hybrid  Semi-Automatic   286618   \n",
       "\n",
       "   Doors  Owner_Count  Price Price_Category Category  \n",
       "0      3            5   8501          Cheap   Others  \n",
       "1      2            3  12092          Cheap    Sedan  \n",
       "2      4            2  11171          Cheap   Luxury  \n",
       "3      2            1  11780          Cheap   Luxury  \n",
       "4      3            3   2867          Cheap   Others  "
      ]
     },
     "execution_count": 73,
     "metadata": {},
     "output_type": "execute_result"
    }
   ],
   "source": [
    "# Function to categorize vehicles based on their model\n",
    "def vechile_category(model):\n",
    "    if model in ['Sportage', 'Tiguan', 'Sonata']:\n",
    "        return 'SUV'\n",
    "    elif model in ['Malibu', 'Camry', 'Civic', '5 Series', 'Elantra', 'Accord']:\n",
    "        return 'Sedan'\n",
    "    elif model in ['GLA', 'Q5', 'A3', '3 Series', 'X5', 'E-Class', 'C-Class']:\n",
    "        return 'Luxury'\n",
    "    else:\n",
    "        return \"Others\"\n",
    "# Applying the function to categorize each vehicle    \n",
    "car[\"Category\"] = car[\"Model\"].apply(vechile_category)\n",
    "\n",
    "# Displaying the first 5 rows of the 'Category' column\n",
    "car[\"Category\"].head()\n",
    "\n",
    "# Displaying the first 5 rows of the updated dataset\n",
    "car.head()"
   ]
  },
  {
   "cell_type": "code",
   "execution_count": 93,
   "id": "31ae2035",
   "metadata": {},
   "outputs": [
    {
     "data": {
      "text/plain": [
       "0               KIA\n",
       "1         CHEVROLET\n",
       "2          MERCEDES\n",
       "3              AUDI\n",
       "4        VOLKSWAGEN\n",
       "           ...     \n",
       "9995            KIA\n",
       "9996      CHEVROLET\n",
       "9997            BMW\n",
       "9998    FORD MOTORS\n",
       "9999     VOLKSWAGEN\n",
       "Name: Brand, Length: 10000, dtype: object"
      ]
     },
     "execution_count": 93,
     "metadata": {},
     "output_type": "execute_result"
    }
   ],
   "source": [
    "# Converting all values in the 'Brand' column to uppercase\n",
    "car['Brand'].str.upper()"
   ]
  },
  {
   "cell_type": "code",
   "execution_count": 82,
   "id": "92f0a9f0",
   "metadata": {},
   "outputs": [
    {
     "name": "stdout",
     "output_type": "stream",
     "text": [
      "<class 'pandas.core.frame.DataFrame'>\n",
      "RangeIndex: 10000 entries, 0 to 9999\n",
      "Data columns (total 12 columns):\n",
      " #   Column          Non-Null Count  Dtype  \n",
      "---  ------          --------------  -----  \n",
      " 0   Brand           10000 non-null  object \n",
      " 1   Model           10000 non-null  object \n",
      " 2   Year            10000 non-null  int64  \n",
      " 3   Engine_Size     10000 non-null  float64\n",
      " 4   Fuel_Type       10000 non-null  object \n",
      " 5   Transmission    10000 non-null  object \n",
      " 6   Mileage         10000 non-null  int64  \n",
      " 7   Doors           10000 non-null  int64  \n",
      " 8   Owner_Count     10000 non-null  int64  \n",
      " 9   Price           10000 non-null  int64  \n",
      " 10  Price_Category  10000 non-null  object \n",
      " 11  Category        10000 non-null  object \n",
      "dtypes: float64(1), int64(5), object(6)\n",
      "memory usage: 937.6+ KB\n"
     ]
    }
   ],
   "source": []
  },
  {
   "cell_type": "code",
   "execution_count": 102,
   "id": "5304be91",
   "metadata": {},
   "outputs": [
    {
     "name": "stdout",
     "output_type": "stream",
     "text": [
      "Empty DataFrame\n",
      "Columns: [Brand, Model, Year, Engine_Size, Fuel_Type, Transmission, Mileage, Doors, Owner_Count, Price, Price_Category, Category]\n",
      "Index: []\n"
     ]
    }
   ],
   "source": [
    "# Filtering cars with a price greater than 50,000\n",
    "expensive_cars = car[car['Price'] > 50000]\n",
    "print(expensive_cars)"
   ]
  },
  {
   "cell_type": "code",
   "execution_count": 106,
   "id": "0a7cc1a8",
   "metadata": {},
   "outputs": [
    {
     "data": {
      "text/html": [
       "<div>\n",
       "<style scoped>\n",
       "    .dataframe tbody tr th:only-of-type {\n",
       "        vertical-align: middle;\n",
       "    }\n",
       "\n",
       "    .dataframe tbody tr th {\n",
       "        vertical-align: top;\n",
       "    }\n",
       "\n",
       "    .dataframe thead th {\n",
       "        text-align: right;\n",
       "    }\n",
       "</style>\n",
       "<table border=\"1\" class=\"dataframe\">\n",
       "  <thead>\n",
       "    <tr style=\"text-align: right;\">\n",
       "      <th></th>\n",
       "      <th>Brand</th>\n",
       "      <th>Model</th>\n",
       "      <th>Year</th>\n",
       "      <th>Engine_Size</th>\n",
       "      <th>Fuel_Type</th>\n",
       "      <th>Transmission</th>\n",
       "      <th>Mileage</th>\n",
       "      <th>Doors</th>\n",
       "      <th>Owner_Count</th>\n",
       "      <th>Price</th>\n",
       "      <th>Price_Category</th>\n",
       "      <th>Category</th>\n",
       "    </tr>\n",
       "  </thead>\n",
       "  <tbody>\n",
       "    <tr>\n",
       "      <th>10</th>\n",
       "      <td>BMW</td>\n",
       "      <td>5 Series</td>\n",
       "      <td>2013</td>\n",
       "      <td>1.3</td>\n",
       "      <td>Hybrid</td>\n",
       "      <td>Automatic</td>\n",
       "      <td>296824</td>\n",
       "      <td>2</td>\n",
       "      <td>3</td>\n",
       "      <td>5863</td>\n",
       "      <td>Cheap</td>\n",
       "      <td>Sedan</td>\n",
       "    </tr>\n",
       "    <tr>\n",
       "      <th>27</th>\n",
       "      <td>BMW</td>\n",
       "      <td>3 Series</td>\n",
       "      <td>2017</td>\n",
       "      <td>2.3</td>\n",
       "      <td>Electric</td>\n",
       "      <td>Semi-Automatic</td>\n",
       "      <td>142701</td>\n",
       "      <td>5</td>\n",
       "      <td>3</td>\n",
       "      <td>10645</td>\n",
       "      <td>Cheap</td>\n",
       "      <td>Luxury</td>\n",
       "    </tr>\n",
       "    <tr>\n",
       "      <th>28</th>\n",
       "      <td>BMW</td>\n",
       "      <td>3 Series</td>\n",
       "      <td>2020</td>\n",
       "      <td>4.7</td>\n",
       "      <td>Electric</td>\n",
       "      <td>Semi-Automatic</td>\n",
       "      <td>210767</td>\n",
       "      <td>3</td>\n",
       "      <td>3</td>\n",
       "      <td>12584</td>\n",
       "      <td>Cheap</td>\n",
       "      <td>Luxury</td>\n",
       "    </tr>\n",
       "    <tr>\n",
       "      <th>41</th>\n",
       "      <td>BMW</td>\n",
       "      <td>5 Series</td>\n",
       "      <td>2007</td>\n",
       "      <td>4.9</td>\n",
       "      <td>Petrol</td>\n",
       "      <td>Manual</td>\n",
       "      <td>120491</td>\n",
       "      <td>2</td>\n",
       "      <td>1</td>\n",
       "      <td>8690</td>\n",
       "      <td>Cheap</td>\n",
       "      <td>Sedan</td>\n",
       "    </tr>\n",
       "    <tr>\n",
       "      <th>55</th>\n",
       "      <td>BMW</td>\n",
       "      <td>3 Series</td>\n",
       "      <td>2011</td>\n",
       "      <td>2.9</td>\n",
       "      <td>Electric</td>\n",
       "      <td>Semi-Automatic</td>\n",
       "      <td>281020</td>\n",
       "      <td>3</td>\n",
       "      <td>5</td>\n",
       "      <td>6679</td>\n",
       "      <td>Cheap</td>\n",
       "      <td>Luxury</td>\n",
       "    </tr>\n",
       "  </tbody>\n",
       "</table>\n",
       "</div>"
      ],
      "text/plain": [
       "   Brand     Model  Year  Engine_Size Fuel_Type    Transmission  Mileage  \\\n",
       "10   BMW  5 Series  2013          1.3    Hybrid       Automatic   296824   \n",
       "27   BMW  3 Series  2017          2.3  Electric  Semi-Automatic   142701   \n",
       "28   BMW  3 Series  2020          4.7  Electric  Semi-Automatic   210767   \n",
       "41   BMW  5 Series  2007          4.9    Petrol          Manual   120491   \n",
       "55   BMW  3 Series  2011          2.9  Electric  Semi-Automatic   281020   \n",
       "\n",
       "    Doors  Owner_Count  Price Price_Category Category  \n",
       "10      2            3   5863          Cheap    Sedan  \n",
       "27      5            3  10645          Cheap   Luxury  \n",
       "28      3            3  12584          Cheap   Luxury  \n",
       "41      2            1   8690          Cheap    Sedan  \n",
       "55      3            5   6679          Cheap   Luxury  "
      ]
     },
     "execution_count": 106,
     "metadata": {},
     "output_type": "execute_result"
    }
   ],
   "source": [
    "# Filtering the dataset for rows where 'Brand' is 'BMW'\n",
    "filter_check = car[car['Brand'] == 'BMW']\n",
    "filter_check.head()"
   ]
  },
  {
   "cell_type": "code",
   "execution_count": 4,
   "id": "52518615",
   "metadata": {},
   "outputs": [
    {
     "name": "stdout",
     "output_type": "stream",
     "text": [
      "<class 'pandas.core.frame.DataFrame'>\n",
      "RangeIndex: 10000 entries, 0 to 9999\n",
      "Data columns (total 10 columns):\n",
      " #   Column        Non-Null Count  Dtype  \n",
      "---  ------        --------------  -----  \n",
      " 0   Brand         10000 non-null  object \n",
      " 1   Model         10000 non-null  object \n",
      " 2   Year          10000 non-null  int64  \n",
      " 3   Engine_Size   10000 non-null  float64\n",
      " 4   Fuel_Type     10000 non-null  object \n",
      " 5   Transmission  10000 non-null  object \n",
      " 6   Mileage       10000 non-null  int64  \n",
      " 7   Doors         10000 non-null  int64  \n",
      " 8   Owner_Count   10000 non-null  int64  \n",
      " 9   Price         10000 non-null  int64  \n",
      "dtypes: float64(1), int64(5), object(4)\n",
      "memory usage: 781.4+ KB\n"
     ]
    }
   ],
   "source": []
  },
  {
   "cell_type": "code",
   "execution_count": 14,
   "id": "9dc13815",
   "metadata": {},
   "outputs": [
    {
     "name": "stdout",
     "output_type": "stream",
     "text": [
      "                sum                                         mean  \\\n",
      "Fuel_Type    Diesel  Electric    Hybrid    Petrol         Diesel   \n",
      "Brand                                                              \n",
      "Audi       38634401  39913190  40640247  37523469  155783.875000   \n",
      "BMW        38874078  40845389  32701285  37409577  158669.706122   \n",
      "Chevrolet  39275620  35819238  36923770  35162468  151060.076923   \n",
      "Ford       39041748  42257488  38293899  38288370  147885.409091   \n",
      "Honda      37298676  43643608  35944929  36909506  150397.887097   \n",
      "\n",
      "                                                        \n",
      "Fuel_Type       Electric         Hybrid         Petrol  \n",
      "Brand                                                   \n",
      "Audi       152340.419847  145143.739286  151304.310484  \n",
      "BMW        146399.243728  150697.165899  144998.360465  \n",
      "Chevrolet  143276.952000  143672.256809  148993.508475  \n",
      "Ford       152005.352518  148425.965116  154388.588710  \n",
      "Honda      164692.860377  140409.878906  153789.608333  \n"
     ]
    }
   ],
   "source": [
    "# Creating a pivot table to analyze 'Mileage' based on 'Brand' and 'Fuel_Type'\n",
    "pivot1 = car.pivot_table(index = 'Brand', columns= 'Fuel_Type', values= 'Mileage', aggfunc= ['sum','mean'])\n",
    "print(pivot1.head())"
   ]
  },
  {
   "cell_type": "code",
   "execution_count": 5,
   "id": "d498526b",
   "metadata": {},
   "outputs": [
    {
     "name": "stdout",
     "output_type": "stream",
     "text": [
      "Brand\n",
      "Audi          8929.373796\n",
      "BMW           8704.068068\n",
      "Chevrolet     9015.683948\n",
      "Ford          8852.570611\n",
      "Honda         8665.596630\n",
      "Hyundai       8778.279397\n",
      "Kia           8880.086066\n",
      "Mercedes      8980.087049\n",
      "Toyota        8798.184536\n",
      "Volkswagen    8928.377451\n",
      "Name: Price, dtype: float64\n"
     ]
    }
   ],
   "source": [
    "# Calculating the average price of cars per brand\n",
    "avg_price_by_brand = car.groupby('Brand')['Price'].mean()\n",
    "print(avg_price_by_brand)"
   ]
  },
  {
   "cell_type": "code",
   "execution_count": 7,
   "id": "07d26e69",
   "metadata": {},
   "outputs": [
    {
     "name": "stdout",
     "output_type": "stream",
     "text": [
      "          Brand     Model  Year  Engine_Size Fuel_Type Transmission  Mileage  \\\n",
      "1100     Toyota   Corolla  2021          4.7  Electric    Automatic    14924   \n",
      "7221       Audi        A3  2023          5.0    Hybrid    Automatic    12234   \n",
      "1012       Ford  Explorer  2020          4.8  Electric    Automatic    19112   \n",
      "9564      Honda    Accord  2022          4.0  Electric    Automatic    14658   \n",
      "5698      Honda      CR-V  2023          4.6    Hybrid    Automatic    10046   \n",
      "8422    Hyundai   Elantra  2019          4.6  Electric    Automatic     1406   \n",
      "9834     Toyota   Corolla  2022          3.6  Electric    Automatic     4015   \n",
      "2369  Chevrolet    Malibu  2022          4.1  Electric    Automatic    31949   \n",
      "9731        Kia       Rio  2023          4.2    Hybrid    Automatic     3490   \n",
      "6123   Mercedes   C-Class  2021          3.9  Electric    Automatic     9279   \n",
      "\n",
      "      Doors  Owner_Count  Price  \n",
      "1100      5            3  18301  \n",
      "7221      5            5  18255  \n",
      "1012      4            5  18017  \n",
      "9564      4            2  17906  \n",
      "5698      4            4  17899  \n",
      "8422      5            3  17871  \n",
      "9834      2            3  17719  \n",
      "2369      5            1  17661  \n",
      "9731      5            2  17630  \n",
      "6123      4            2  17614  \n"
     ]
    }
   ],
   "source": [
    "# Displaying the top 10 most expensive cars\n",
    "top_expensive_cars = car.nlargest(10, 'Price')\n",
    "print(top_expensive_cars)"
   ]
  },
  {
   "cell_type": "code",
   "execution_count": 8,
   "id": "81365ea9",
   "metadata": {},
   "outputs": [
    {
     "name": "stdout",
     "output_type": "stream",
     "text": [
      "         Brand  Model  Year  Engine_Size Fuel_Type    Transmission  Mileage  \\\n",
      "5       Toyota  Camry  2007          2.7    Petrol       Automatic   157889   \n",
      "9       Toyota   RAV4  2005          3.1    Petrol          Manual   107724   \n",
      "14  Volkswagen   Golf  2003          2.4    Petrol       Automatic   145921   \n",
      "19    Mercedes    GLA  2021          1.5    Petrol          Manual    34640   \n",
      "24    Mercedes    GLA  2016          3.9    Petrol  Semi-Automatic    19868   \n",
      "\n",
      "    Doors  Owner_Count  Price  \n",
      "5       4            4   7242  \n",
      "9       2            5   6545  \n",
      "14      5            2   5981  \n",
      "19      2            1  11207  \n",
      "24      3            4  12402  \n"
     ]
    }
   ],
   "source": [
    "# Filtering dataset for Petrol cars\n",
    "petrol_cars = car[car['Fuel_Type'] == 'Petrol']\n",
    "print(petrol_cars.head())"
   ]
  },
  {
   "cell_type": "code",
   "execution_count": 9,
   "id": "3f69f275",
   "metadata": {},
   "outputs": [
    {
     "name": "stdout",
     "output_type": "stream",
     "text": [
      "Mileage\n",
      "25         9499.0\n",
      "74         8998.0\n",
      "88        10298.0\n",
      "178       13196.0\n",
      "184       13096.0\n",
      "           ...   \n",
      "299714     4805.0\n",
      "299754     7204.0\n",
      "299818     6303.0\n",
      "299872     7402.0\n",
      "299947     7701.0\n",
      "Name: Price, Length: 9854, dtype: float64\n"
     ]
    }
   ],
   "source": [
    "# Checking how Mileage affects Price\n",
    "mileage_price = car.groupby('Mileage')['Price'].mean()\n",
    "print(mileage_price)"
   ]
  },
  {
   "cell_type": "code",
   "execution_count": 10,
   "id": "88d1dbd4",
   "metadata": {},
   "outputs": [
    {
     "name": "stdout",
     "output_type": "stream",
     "text": [
      "          Brand    Model  Year  Engine_Size Fuel_Type    Transmission  \\\n",
      "7838  Chevrolet  Equinox  2017          2.5  Electric          Manual   \n",
      "1339     Toyota     RAV4  2008          4.9  Electric  Semi-Automatic   \n",
      "3211      Honda   Accord  2012          3.6    Hybrid  Semi-Automatic   \n",
      "4929      Honda     CR-V  2016          4.3    Petrol  Semi-Automatic   \n",
      "4292       Audi       Q5  2015          2.2    Petrol          Manual   \n",
      "\n",
      "      Mileage  Doors  Owner_Count  Price  \n",
      "7838   299947      2            4   7701  \n",
      "1339   299872      5            5   7402  \n",
      "3211   299818      2            1   6303  \n",
      "4929   299754      2            2   7204  \n",
      "4292   299714      5            2   4805  \n"
     ]
    }
   ],
   "source": [
    "# Displaying the top 5 cars with the highest mileage\n",
    "high_mileage_cars = car.nlargest(5, 'Mileage')\n",
    "print(high_mileage_cars)"
   ]
  },
  {
   "cell_type": "code",
   "execution_count": 11,
   "id": "642d9bcb",
   "metadata": {},
   "outputs": [
    {
     "name": "stdout",
     "output_type": "stream",
     "text": [
      "count    10000.00000\n",
      "mean      8852.96440\n",
      "std       3112.59681\n",
      "min       2000.00000\n",
      "25%       6646.00000\n",
      "50%       8858.50000\n",
      "75%      11086.50000\n",
      "max      18301.00000\n",
      "Name: Price, dtype: float64\n"
     ]
    }
   ],
   "source": [
    "# Checking price distribution\n",
    "price_distribution = car['Price'].describe()\n",
    "print(price_distribution)"
   ]
  },
  {
   "cell_type": "code",
   "execution_count": 12,
   "id": "4206f216",
   "metadata": {},
   "outputs": [
    {
     "name": "stdout",
     "output_type": "stream",
     "text": [
      "Fuel_Type\n",
      "Electric    2625\n",
      "Diesel      2512\n",
      "Hybrid      2453\n",
      "Petrol      2410\n",
      "Name: count, dtype: int64\n"
     ]
    }
   ],
   "source": [
    "# Counting number of cars per fuel type\n",
    "fuel_distribution = car['Fuel_Type'].value_counts()\n",
    "print(fuel_distribution)"
   ]
  },
  {
   "cell_type": "code",
   "execution_count": null,
   "id": "40fe04d3",
   "metadata": {},
   "outputs": [],
   "source": []
  }
 ],
 "metadata": {
  "kernelspec": {
   "display_name": "Python 3 (ipykernel)",
   "language": "python",
   "name": "python3"
  },
  "language_info": {
   "codemirror_mode": {
    "name": "ipython",
    "version": 3
   },
   "file_extension": ".py",
   "mimetype": "text/x-python",
   "name": "python",
   "nbconvert_exporter": "python",
   "pygments_lexer": "ipython3",
   "version": "3.11.4"
  }
 },
 "nbformat": 4,
 "nbformat_minor": 5
}
